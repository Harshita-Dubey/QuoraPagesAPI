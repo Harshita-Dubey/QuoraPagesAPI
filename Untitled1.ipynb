{
  "nbformat": 4,
  "nbformat_minor": 0,
  "metadata": {
    "colab": {
      "provenance": [],
      "authorship_tag": "ABX9TyPNC6AEQhuF+sAJgFeeZodf",
      "include_colab_link": true
    },
    "kernelspec": {
      "name": "python3",
      "display_name": "Python 3"
    },
    "language_info": {
      "name": "python"
    }
  },
  "cells": [
    {
      "cell_type": "markdown",
      "metadata": {
        "id": "view-in-github",
        "colab_type": "text"
      },
      "source": [
        "<a href=\"https://colab.research.google.com/github/Harshita-Dubey/QuoraPagesAPI/blob/main/Untitled1.ipynb\" target=\"_parent\"><img src=\"https://colab.research.google.com/assets/colab-badge.svg\" alt=\"Open In Colab\"/></a>"
      ]
    },
    {
      "cell_type": "code",
      "execution_count": 3,
      "metadata": {
        "colab": {
          "base_uri": "https://localhost:8080/"
        },
        "id": "qAyEY_WQbOhZ",
        "outputId": "8490b845-66a3-4e5f-ce8c-89f83cde71a6"
      },
      "outputs": [
        {
          "output_type": "stream",
          "name": "stdout",
          "text": [
            "Model Accuracy: 97.17%\n",
            "\n",
            "Classification Report:\n",
            "               precision    recall  f1-score   support\n",
            "\n",
            "           0       0.97      1.00      0.98        89\n",
            "           1       1.00      0.82      0.90        17\n",
            "\n",
            "    accuracy                           0.97       106\n",
            "   macro avg       0.98      0.91      0.94       106\n",
            "weighted avg       0.97      0.97      0.97       106\n",
            "\n",
            "Model and scaler saved successfully!\n"
          ]
        }
      ],
      "source": [
        "import pandas as pd\n",
        "import numpy as np\n",
        "from sklearn.model_selection import train_test_split\n",
        "from sklearn.preprocessing import LabelEncoder, StandardScaler\n",
        "from sklearn.ensemble import RandomForestClassifier\n",
        "from sklearn.metrics import accuracy_score, classification_report\n",
        "\n",
        "# Load the dataset\n",
        "df = pd.read_csv(\"/content/Uterine Corpus Endometrial Carcinoma (1).csv\")  # Replace with actual file name\n",
        "\n",
        "# Drop unnecessary columns\n",
        "df.drop(columns=[\"Patient ID\", \"Sample ID\"], inplace=True)\n",
        "\n",
        "# Encode categorical variables\n",
        "label_encoders = {}\n",
        "categorical_cols = [\"Cancer Type Detailed\", \"Disease Free Status\", \"Disease-specific Survival status\", \"Race Category\", \"Subtype\", \"Tumor Type\"]\n",
        "\n",
        "for col in categorical_cols:\n",
        "    le = LabelEncoder()\n",
        "    df[col] = le.fit_transform(df[col])\n",
        "    label_encoders[col] = le\n",
        "\n",
        "# Define target variable (Overall Survival Status)\n",
        "df[\"Overall Survival Status\"] = df[\"Overall Survival Status\"].apply(lambda x: 1 if \"DECEASED\" in x else 0)\n",
        "\n",
        "# Define features and target\n",
        "X = df.drop(columns=[\"Overall Survival Status\"])\n",
        "y = df[\"Overall Survival Status\"]\n",
        "\n",
        "# Split into training and testing sets\n",
        "X_train, X_test, y_train, y_test = train_test_split(X, y, test_size=0.2, random_state=42, stratify=y)\n",
        "\n",
        "# Standardize numerical features\n",
        "scaler = StandardScaler()\n",
        "X_train = scaler.fit_transform(X_train)\n",
        "X_test = scaler.transform(X_test)\n",
        "\n",
        "# Train the best-performing model (Random Forest)\n",
        "model = RandomForestClassifier(n_estimators=200, max_depth=10, random_state=42)\n",
        "model.fit(X_train, y_train)\n",
        "\n",
        "# Make predictions\n",
        "y_pred = model.predict(X_test)\n",
        "\n",
        "# Evaluate the model\n",
        "accuracy = accuracy_score(y_test, y_pred)\n",
        "print(f\"Model Accuracy: {accuracy * 100:.2f}%\")\n",
        "print(\"\\nClassification Report:\\n\", classification_report(y_test, y_pred))\n",
        "\n",
        "# Save the model\n",
        "import joblib\n",
        "joblib.dump(model, \"survival_prediction_model.pkl\")\n",
        "joblib.dump(scaler, \"scaler.pkl\")\n",
        "\n",
        "print(\"Model and scaler saved successfully!\")\n"
      ]
    }
  ]
}